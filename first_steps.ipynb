{
 "cells": [
  {
   "metadata": {
    "ExecuteTime": {
     "end_time": "2024-12-23T12:05:31.552503Z",
     "start_time": "2024-12-23T12:05:31.542884Z"
    }
   },
   "cell_type": "code",
   "source": [
    "import getpass\n",
    "import os\n",
    "\n",
    "if not os.environ.get(\"ANTHROPIC_API_KEY\"):\n",
    "  os.environ[\"ANTHROPIC_API_KEY\"] = getpass.getpass(\"Enter API key for Anthropic: \")\n",
    "\n",
    "from langchain_anthropic import ChatAnthropic\n",
    "\n",
    "model = ChatAnthropic(\n",
    "  model=\"claude-3-haiku-20240307\",\n",
    "    temperature=0,\n",
    "    max_tokens=1024,\n",
    "    timeout=None,\n",
    "    max_retries=2,\n",
    ")"
   ],
   "id": "931cd002bc65280d",
   "outputs": [],
   "execution_count": 3
  },
  {
   "metadata": {
    "ExecuteTime": {
     "end_time": "2024-12-23T12:05:56.867839Z",
     "start_time": "2024-12-23T12:05:54.982654Z"
    }
   },
   "cell_type": "code",
   "source": "model.invoke(\"What is the meaning of life?\")",
   "id": "2efaacf51b33d6b5",
   "outputs": [
    {
     "data": {
      "text/plain": [
       "AIMessage(content=\"There is no single, universally agreed upon meaning of life. Different philosophical, religious and scientific perspectives offer various answers to this profound and complex question. Some common themes include:\\n\\n- Finding purpose, meaning and fulfillment through relationships, personal growth, creative expression, service to others, or connection to something greater than oneself.\\n\\n- Pursuing happiness, well-being and living a virtuous life.\\n\\n- Discovering one's true nature and essence as a conscious being.\\n\\n- Contributing positively to the world and leaving a lasting legacy.\\n\\n- Exploring the mysteries of existence, consciousness and the nature of reality.\\n\\nUltimately, the meaning of life is a highly personal and subjective matter. Many believe it is up to each individual to determine their own sense of meaning and purpose through their lived experiences, beliefs, values and choices. There is no single, definitive answer, but rather an ongoing exploration and discovery of what gives one's life meaning and significance.\", additional_kwargs={}, response_metadata={'id': 'msg_01Jw4tgN7esCRVRCfYxT2nkr', 'model': 'claude-3-haiku-20240307', 'stop_reason': 'end_turn', 'stop_sequence': None, 'usage': {'cache_creation_input_tokens': 0, 'cache_read_input_tokens': 0, 'input_tokens': 14, 'output_tokens': 202}}, id='run-d4b8ac56-fb59-474e-9b63-f8d458becb79-0', usage_metadata={'input_tokens': 14, 'output_tokens': 202, 'total_tokens': 216, 'input_token_details': {'cache_read': 0, 'cache_creation': 0}})"
      ]
     },
     "execution_count": 5,
     "metadata": {},
     "output_type": "execute_result"
    }
   ],
   "execution_count": 5
  },
  {
   "metadata": {
    "ExecuteTime": {
     "end_time": "2024-12-23T12:05:41.499328Z",
     "start_time": "2024-12-23T12:05:40.179668Z"
    }
   },
   "cell_type": "code",
   "source": [
    "messages = [\n",
    "    (\n",
    "        \"system\",\n",
    "        \"You are a helpful assistant that translates English to French. Translate the user sentence.\",\n",
    "    ),\n",
    "    (\"human\", \"I love programming.\"),\n",
    "]\n",
    "ai_msg = model.invoke(messages)\n",
    "ai_msg"
   ],
   "id": "d1df3abd329b5d5d",
   "outputs": [
    {
     "data": {
      "text/plain": [
       "AIMessage(content=\"Voici la traduction en français :\\n\\nJ'adore la programmation.\", additional_kwargs={}, response_metadata={'id': 'msg_012hjmR2wbQGr74TUQbBRZ7S', 'model': 'claude-3-haiku-20240307', 'stop_reason': 'end_turn', 'stop_sequence': None, 'usage': {'cache_creation_input_tokens': 0, 'cache_read_input_tokens': 0, 'input_tokens': 29, 'output_tokens': 21}}, id='run-a329399b-c166-4d9b-ba66-8d4dad165eda-0', usage_metadata={'input_tokens': 29, 'output_tokens': 21, 'total_tokens': 50, 'input_token_details': {'cache_read': 0, 'cache_creation': 0}})"
      ]
     },
     "execution_count": 4,
     "metadata": {},
     "output_type": "execute_result"
    }
   ],
   "execution_count": 4
  },
  {
   "metadata": {
    "ExecuteTime": {
     "end_time": "2024-12-23T12:07:53.329366Z",
     "start_time": "2024-12-23T12:07:52.778649Z"
    }
   },
   "cell_type": "code",
   "source": [
    "from langchain_core.prompts import ChatPromptTemplate\n",
    "\n",
    "prompt = ChatPromptTemplate.from_messages(\n",
    "    [\n",
    "        (\n",
    "            \"system\",\n",
    "            \"You are a helpful assistant that translates {input_language} to {output_language}.\",\n",
    "        ),\n",
    "        (\"human\", \"{input}\"),\n",
    "    ]\n",
    ")\n",
    "\n",
    "chain = prompt | model\n",
    "chain.invoke(\n",
    "    {\n",
    "        \"input_language\": \"English\",\n",
    "        \"output_language\": \"German\",\n",
    "        \"input\": \"I love programming.\",\n",
    "    }\n",
    ")"
   ],
   "id": "da30ab45550c82d4",
   "outputs": [
    {
     "data": {
      "text/plain": [
       "AIMessage(content='Ich liebe das Programmieren.', additional_kwargs={}, response_metadata={'id': 'msg_019J1F4zUDk1rHMuTK15Pnub', 'model': 'claude-3-haiku-20240307', 'stop_reason': 'end_turn', 'stop_sequence': None, 'usage': {'cache_creation_input_tokens': 0, 'cache_read_input_tokens': 0, 'input_tokens': 23, 'output_tokens': 12}}, id='run-86706fc4-4f44-477a-8afa-a46f367d1219-0', usage_metadata={'input_tokens': 23, 'output_tokens': 12, 'total_tokens': 35, 'input_token_details': {'cache_read': 0, 'cache_creation': 0}})"
      ]
     },
     "execution_count": 6,
     "metadata": {},
     "output_type": "execute_result"
    }
   ],
   "execution_count": 6
  }
 ],
 "metadata": {
  "kernelspec": {
   "display_name": "Python 3",
   "language": "python",
   "name": "python3"
  },
  "language_info": {
   "codemirror_mode": {
    "name": "ipython",
    "version": 2
   },
   "file_extension": ".py",
   "mimetype": "text/x-python",
   "name": "python",
   "nbconvert_exporter": "python",
   "pygments_lexer": "ipython2",
   "version": "2.7.6"
  }
 },
 "nbformat": 4,
 "nbformat_minor": 5
}
