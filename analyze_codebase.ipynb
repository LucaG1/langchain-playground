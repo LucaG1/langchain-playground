{
 "cells": [
  {
   "metadata": {
    "ExecuteTime": {
     "end_time": "2025-01-04T23:46:40.432724Z",
     "start_time": "2025-01-04T23:46:14.037790Z"
    }
   },
   "cell_type": "code",
   "source": [
    "import getpass\n",
    "import os\n",
    "\n",
    "\n",
    "def _set_env(var: str):\n",
    "    if not os.environ.get(var):\n",
    "        os.environ[var] = getpass.getpass(f\"{var}: \")\n",
    "\n",
    "\n",
    "_set_env(\"ANTHROPIC_API_KEY\")\n",
    "_set_env(\"COHERE_API_KEY\")"
   ],
   "id": "28b77afc9e03f0a2",
   "outputs": [],
   "execution_count": 7
  },
  {
   "cell_type": "code",
   "id": "initial_id",
   "metadata": {
    "collapsed": true,
    "ExecuteTime": {
     "end_time": "2025-01-05T00:39:17.967891Z",
     "start_time": "2025-01-05T00:39:17.438472Z"
    }
   },
   "source": [
    "\n",
    "from langchain_community.document_loaders import TextLoader\n",
    "\n",
    "root_dir = \"./codebases/py-llm-core\"\n",
    "docs = []\n",
    "for dirpath, dirnames, filenames in os.walk(root_dir):\n",
    "    for file in filenames:\n",
    "        try:\n",
    "            loader = TextLoader(os.path.join(dirpath, file), encoding=\"utf-8\")\n",
    "            docs.extend(loader.load_and_split())\n",
    "        except Exception:\n",
    "            pass"
   ],
   "outputs": [],
   "execution_count": 14
  },
  {
   "metadata": {
    "ExecuteTime": {
     "end_time": "2025-01-04T23:46:47.233510Z",
     "start_time": "2025-01-04T23:46:45.829815Z"
    }
   },
   "cell_type": "code",
   "source": [
    "from langchain_cohere import CohereEmbeddings\n",
    "\n",
    "# Set embeddings\n",
    "embd = CohereEmbeddings(model=\"embed-english-v3.0\")"
   ],
   "id": "d63057150bb040d1",
   "outputs": [],
   "execution_count": 8
  },
  {
   "metadata": {
    "ExecuteTime": {
     "end_time": "2025-01-05T00:39:21.862981Z",
     "start_time": "2025-01-05T00:39:21.846809Z"
    }
   },
   "cell_type": "code",
   "source": [
    "from langchain_text_splitters import CharacterTextSplitter\n",
    "\n",
    "text_splitter = CharacterTextSplitter(chunk_size=1000, chunk_overlap=0)\n",
    "texts = text_splitter.split_documents(docs)"
   ],
   "id": "3dbd29f744c3be9c",
   "outputs": [
    {
     "name": "stderr",
     "output_type": "stream",
     "text": [
      "Created a chunk of size 2643, which is longer than the specified 1000\n",
      "Created a chunk of size 1020, which is longer than the specified 1000\n",
      "Created a chunk of size 1540, which is longer than the specified 1000\n",
      "Created a chunk of size 1369, which is longer than the specified 1000\n"
     ]
    }
   ],
   "execution_count": 15
  },
  {
   "metadata": {
    "ExecuteTime": {
     "end_time": "2025-01-04T23:09:16.331965Z",
     "start_time": "2025-01-04T23:09:16.270652Z"
    }
   },
   "cell_type": "code",
   "source": "from PIL import Image",
   "id": "42c9a848c5ab133c",
   "outputs": [],
   "execution_count": 14
  },
  {
   "metadata": {
    "ExecuteTime": {
     "end_time": "2025-01-04T23:45:23.382814Z",
     "start_time": "2025-01-04T23:45:21.141442Z"
    }
   },
   "cell_type": "code",
   "source": [
    "import deeplake\n",
    "\n",
    "# Create a local dataset\n",
    "# ds = deeplake.dataset(\"/datasets/my_dataset\", overwrite=True)"
   ],
   "id": "e9231d374dbfc723",
   "outputs": [
    {
     "name": "stdout",
     "output_type": "stream",
     "text": [
      "/datasets/my_dataset loaded successfully.\n",
      "\n"
     ]
    },
    {
     "name": "stderr",
     "output_type": "stream",
     "text": [
      "C:\\Users\\lucag\\miniconda3\\envs\\langchain-playground\\Lib\\site-packages\\deeplake\\util\\check_latest_version.py:32: UserWarning: A newer version of deeplake (4.1.2) is available. It's recommended that you update to the latest version using `pip install -U deeplake`.\n",
      "  warnings.warn(\n",
      "\r"
     ]
    }
   ],
   "execution_count": 2
  },
  {
   "metadata": {
    "ExecuteTime": {
     "end_time": "2025-01-05T00:40:58.469473Z",
     "start_time": "2025-01-05T00:39:28.274767Z"
    }
   },
   "cell_type": "code",
   "source": [
    "from langchain_community.vectorstores import DeepLake\n",
    "\n",
    "# username = \"<USERNAME_OR_ORG>\"  # replace with your username from app.activeloop.ai\n",
    "db = DeepLake(\n",
    "    dataset_path=f\"langchain_store\",\n",
    "    # dataset_path=f\"hub://{username}/twitter-algorithm\",\n",
    "    embedding=embd,\n",
    ")\n",
    "db.add_documents(texts)"
   ],
   "id": "a20d52dca1758bfc",
   "outputs": [
    {
     "name": "stdout",
     "output_type": "stream",
     "text": [
      "Deep Lake Dataset in langchain_store already exists, loading from the storage\n"
     ]
    },
    {
     "name": "stderr",
     "output_type": "stream",
     "text": [
      "Creating 153 embeddings in 1 batches of size 153:: 100%|██████████| 1/1 [00:04<00:00,  4.97s/it]"
     ]
    },
    {
     "name": "stdout",
     "output_type": "stream",
     "text": [
      "Dataset(path='langchain_store', tensors=['embedding', 'id', 'metadata', 'text'])\n",
      "\n",
      "  tensor      htype       shape      dtype  compression\n",
      "  -------    -------     -------    -------  ------- \n",
      " embedding  embedding  (153, 1024)  float32   None   \n",
      "    id        text      (153, 1)      str     None   \n",
      " metadata     json      (153, 1)      str     None   \n",
      "   text       text      (153, 1)      str     None   \n"
     ]
    },
    {
     "name": "stderr",
     "output_type": "stream",
     "text": [
      "\n"
     ]
    },
    {
     "data": {
      "text/plain": [
       "['b807eef2-cafd-11ef-abdd-88b111616788',\n",
       " 'b807eef3-cafd-11ef-a79b-88b111616788',\n",
       " 'b807eef4-cafd-11ef-8e39-88b111616788',\n",
       " 'b807eef5-cafd-11ef-81c9-88b111616788',\n",
       " 'b807eef6-cafd-11ef-a1d1-88b111616788',\n",
       " 'b807eef7-cafd-11ef-8ab0-88b111616788',\n",
       " 'b807eef8-cafd-11ef-9aec-88b111616788',\n",
       " 'b807eef9-cafd-11ef-91d0-88b111616788',\n",
       " 'b807eefa-cafd-11ef-932c-88b111616788',\n",
       " 'b807eefb-cafd-11ef-87dc-88b111616788',\n",
       " 'b807eefc-cafd-11ef-b50f-88b111616788',\n",
       " 'b807eefd-cafd-11ef-8351-88b111616788',\n",
       " 'b807eefe-cafd-11ef-98c1-88b111616788',\n",
       " 'b807eeff-cafd-11ef-b07b-88b111616788',\n",
       " 'b807ef00-cafd-11ef-8335-88b111616788',\n",
       " 'b807ef01-cafd-11ef-a275-88b111616788',\n",
       " 'b807ef02-cafd-11ef-b645-88b111616788',\n",
       " 'b807ef03-cafd-11ef-a2d0-88b111616788',\n",
       " 'b807ef04-cafd-11ef-ba77-88b111616788',\n",
       " 'b807ef05-cafd-11ef-930e-88b111616788',\n",
       " 'b807ef06-cafd-11ef-bf35-88b111616788',\n",
       " 'b807ef07-cafd-11ef-9d19-88b111616788',\n",
       " 'b807ef08-cafd-11ef-84bf-88b111616788',\n",
       " 'b807ef09-cafd-11ef-a416-88b111616788',\n",
       " 'b807ef0a-cafd-11ef-bccd-88b111616788',\n",
       " 'b807ef0b-cafd-11ef-9fa1-88b111616788',\n",
       " 'b807ef0c-cafd-11ef-a018-88b111616788',\n",
       " 'b807ef0d-cafd-11ef-a142-88b111616788',\n",
       " 'b807ef0e-cafd-11ef-a06b-88b111616788',\n",
       " 'b807ef0f-cafd-11ef-a00b-88b111616788',\n",
       " 'b807ef10-cafd-11ef-9916-88b111616788',\n",
       " 'b807ef11-cafd-11ef-bba8-88b111616788',\n",
       " 'b807ef12-cafd-11ef-960b-88b111616788',\n",
       " 'b807ef13-cafd-11ef-a921-88b111616788',\n",
       " 'b807ef14-cafd-11ef-9a49-88b111616788',\n",
       " 'b807ef15-cafd-11ef-9c19-88b111616788',\n",
       " 'b807ef16-cafd-11ef-a874-88b111616788',\n",
       " 'b807ef17-cafd-11ef-a8d5-88b111616788',\n",
       " 'b807ef18-cafd-11ef-b6da-88b111616788',\n",
       " 'b807ef19-cafd-11ef-b483-88b111616788',\n",
       " 'b807ef1a-cafd-11ef-a973-88b111616788',\n",
       " 'b807ef1b-cafd-11ef-be86-88b111616788',\n",
       " 'b807ef1c-cafd-11ef-80bb-88b111616788',\n",
       " 'b807ef1d-cafd-11ef-b666-88b111616788',\n",
       " 'b807ef1e-cafd-11ef-ba23-88b111616788',\n",
       " 'b807ef1f-cafd-11ef-80e4-88b111616788',\n",
       " 'b807ef20-cafd-11ef-b95b-88b111616788',\n",
       " 'b807ef21-cafd-11ef-91c2-88b111616788',\n",
       " 'b807ef22-cafd-11ef-9472-88b111616788',\n",
       " 'b807ef23-cafd-11ef-ab33-88b111616788',\n",
       " 'b807ef24-cafd-11ef-896a-88b111616788',\n",
       " 'b807ef25-cafd-11ef-9340-88b111616788',\n",
       " 'b807ef26-cafd-11ef-963b-88b111616788',\n",
       " 'b807ef27-cafd-11ef-9c0d-88b111616788',\n",
       " 'b807ef28-cafd-11ef-ab11-88b111616788',\n",
       " 'b807ef29-cafd-11ef-8231-88b111616788',\n",
       " 'b807ef2a-cafd-11ef-a6d7-88b111616788',\n",
       " 'b807ef2b-cafd-11ef-bea9-88b111616788',\n",
       " 'b807ef2c-cafd-11ef-8064-88b111616788',\n",
       " 'b807ef2d-cafd-11ef-84fe-88b111616788',\n",
       " 'b807ef2e-cafd-11ef-869a-88b111616788',\n",
       " 'b807ef2f-cafd-11ef-915a-88b111616788',\n",
       " 'b807ef30-cafd-11ef-87da-88b111616788',\n",
       " 'b807ef31-cafd-11ef-a6ff-88b111616788',\n",
       " 'b807ef32-cafd-11ef-ae31-88b111616788',\n",
       " 'b807ef33-cafd-11ef-acd8-88b111616788',\n",
       " 'b807ef34-cafd-11ef-82a6-88b111616788',\n",
       " 'b807ef35-cafd-11ef-8da2-88b111616788',\n",
       " 'b807ef36-cafd-11ef-bbd1-88b111616788',\n",
       " 'b807ef37-cafd-11ef-aa5a-88b111616788',\n",
       " 'b807ef38-cafd-11ef-9490-88b111616788',\n",
       " 'b807ef39-cafd-11ef-b872-88b111616788',\n",
       " 'b807ef3a-cafd-11ef-8094-88b111616788',\n",
       " 'b807ef3b-cafd-11ef-9968-88b111616788',\n",
       " 'b807ef3c-cafd-11ef-be79-88b111616788',\n",
       " 'b807ef3d-cafd-11ef-926f-88b111616788',\n",
       " 'b807ef3e-cafd-11ef-a620-88b111616788',\n",
       " 'b807ef3f-cafd-11ef-b345-88b111616788',\n",
       " 'b807ef40-cafd-11ef-8662-88b111616788',\n",
       " 'b807ef41-cafd-11ef-a3ba-88b111616788',\n",
       " 'b807ef42-cafd-11ef-886d-88b111616788',\n",
       " 'b807ef43-cafd-11ef-b38e-88b111616788',\n",
       " 'b807ef44-cafd-11ef-abfd-88b111616788',\n",
       " 'b807ef45-cafd-11ef-b127-88b111616788',\n",
       " 'b807ef46-cafd-11ef-88be-88b111616788',\n",
       " 'b807ef47-cafd-11ef-a7b1-88b111616788',\n",
       " 'b807ef48-cafd-11ef-bccb-88b111616788',\n",
       " 'b807ef49-cafd-11ef-a38e-88b111616788',\n",
       " 'b807ef4a-cafd-11ef-9f69-88b111616788',\n",
       " 'b807ef4b-cafd-11ef-acc7-88b111616788',\n",
       " 'b807ef4c-cafd-11ef-b737-88b111616788',\n",
       " 'b807ef4d-cafd-11ef-9124-88b111616788',\n",
       " 'b807ef4e-cafd-11ef-bd45-88b111616788',\n",
       " 'b807ef4f-cafd-11ef-a609-88b111616788',\n",
       " 'b807ef50-cafd-11ef-8c6c-88b111616788',\n",
       " 'b807ef51-cafd-11ef-aa23-88b111616788',\n",
       " 'b807ef52-cafd-11ef-babf-88b111616788',\n",
       " 'b807ef53-cafd-11ef-ae4f-88b111616788',\n",
       " 'b807ef54-cafd-11ef-8071-88b111616788',\n",
       " 'b807ef55-cafd-11ef-abec-88b111616788',\n",
       " 'b807ef56-cafd-11ef-8ef4-88b111616788',\n",
       " 'b807ef57-cafd-11ef-878a-88b111616788',\n",
       " 'b807ef58-cafd-11ef-ba04-88b111616788',\n",
       " 'b807ef59-cafd-11ef-9c98-88b111616788',\n",
       " 'b807ef5a-cafd-11ef-98cd-88b111616788',\n",
       " 'b807ef5b-cafd-11ef-bae5-88b111616788',\n",
       " 'b807ef5c-cafd-11ef-bb94-88b111616788',\n",
       " 'b807ef5d-cafd-11ef-ae35-88b111616788',\n",
       " 'b807ef5e-cafd-11ef-917f-88b111616788',\n",
       " 'b807ef5f-cafd-11ef-8e7e-88b111616788',\n",
       " 'b807ef60-cafd-11ef-9c1c-88b111616788',\n",
       " 'b807ef61-cafd-11ef-9724-88b111616788',\n",
       " 'b807ef62-cafd-11ef-a9f4-88b111616788',\n",
       " 'b807ef63-cafd-11ef-838f-88b111616788',\n",
       " 'b807ef64-cafd-11ef-9ddc-88b111616788',\n",
       " 'b807ef65-cafd-11ef-b6e3-88b111616788',\n",
       " 'b807ef66-cafd-11ef-831a-88b111616788',\n",
       " 'b807ef67-cafd-11ef-8328-88b111616788',\n",
       " 'b807ef68-cafd-11ef-81c2-88b111616788',\n",
       " 'b807ef69-cafd-11ef-a253-88b111616788',\n",
       " 'b807ef6a-cafd-11ef-98c0-88b111616788',\n",
       " 'b807ef6b-cafd-11ef-b148-88b111616788',\n",
       " 'b807ef6c-cafd-11ef-b0a8-88b111616788',\n",
       " 'b807ef6d-cafd-11ef-ad22-88b111616788',\n",
       " 'b807ef6e-cafd-11ef-a798-88b111616788',\n",
       " 'b807ef6f-cafd-11ef-b7c3-88b111616788',\n",
       " 'b807ef70-cafd-11ef-8a0b-88b111616788',\n",
       " 'b807ef71-cafd-11ef-9d73-88b111616788',\n",
       " 'b807ef72-cafd-11ef-8940-88b111616788',\n",
       " 'b807ef73-cafd-11ef-9e6d-88b111616788',\n",
       " 'b807ef74-cafd-11ef-a89c-88b111616788',\n",
       " 'b807ef75-cafd-11ef-b2a5-88b111616788',\n",
       " 'b807ef76-cafd-11ef-8033-88b111616788',\n",
       " 'b807ef77-cafd-11ef-9167-88b111616788',\n",
       " 'b807ef78-cafd-11ef-bf6d-88b111616788',\n",
       " 'b807ef79-cafd-11ef-995e-88b111616788',\n",
       " 'b807ef7a-cafd-11ef-9c77-88b111616788',\n",
       " 'b807ef7b-cafd-11ef-a0de-88b111616788',\n",
       " 'b807ef7c-cafd-11ef-a276-88b111616788',\n",
       " 'b807ef7d-cafd-11ef-976c-88b111616788',\n",
       " 'b807ef7e-cafd-11ef-a82c-88b111616788',\n",
       " 'b807ef7f-cafd-11ef-95d0-88b111616788',\n",
       " 'b807ef80-cafd-11ef-a463-88b111616788',\n",
       " 'b807ef81-cafd-11ef-a027-88b111616788',\n",
       " 'b807ef82-cafd-11ef-a56d-88b111616788',\n",
       " 'b807ef83-cafd-11ef-8ba7-88b111616788',\n",
       " 'b807ef84-cafd-11ef-b99c-88b111616788',\n",
       " 'b807ef85-cafd-11ef-8f6b-88b111616788',\n",
       " 'b807ef86-cafd-11ef-a86c-88b111616788',\n",
       " 'b807ef87-cafd-11ef-a554-88b111616788',\n",
       " 'b807ef88-cafd-11ef-963d-88b111616788',\n",
       " 'b807ef89-cafd-11ef-876a-88b111616788',\n",
       " 'b807ef8a-cafd-11ef-80e1-88b111616788']"
      ]
     },
     "execution_count": 16,
     "metadata": {},
     "output_type": "execute_result"
    }
   ],
   "execution_count": 16
  },
  {
   "metadata": {
    "ExecuteTime": {
     "end_time": "2025-01-05T00:31:28.673346Z",
     "start_time": "2025-01-05T00:31:28.660129Z"
    }
   },
   "cell_type": "code",
   "source": "db",
   "id": "fd228d41a6a26da",
   "outputs": [
    {
     "data": {
      "text/plain": [
       "<langchain_community.vectorstores.deeplake.DeepLake at 0x24e0634bb60>"
      ]
     },
     "execution_count": 10,
     "metadata": {},
     "output_type": "execute_result"
    }
   ],
   "execution_count": 10
  },
  {
   "metadata": {
    "ExecuteTime": {
     "end_time": "2025-01-05T00:53:03.698310Z",
     "start_time": "2025-01-05T00:53:03.692303Z"
    }
   },
   "cell_type": "code",
   "source": [
    "retriever = db.as_retriever()\n",
    "retriever.search_kwargs[\"distance_metric\"] = \"cos\"\n",
    "retriever.search_kwargs[\"fetch_k\"] = 100\n",
    "# retriever.search_kwargs[\"use_maximal_marginal_relevance\"] = True\n",
    "retriever.search_kwargs[\"k\"] = 10"
   ],
   "id": "5f11b533fc9105b3",
   "outputs": [],
   "execution_count": 34
  },
  {
   "metadata": {
    "ExecuteTime": {
     "end_time": "2025-01-05T00:53:05.566646Z",
     "start_time": "2025-01-05T00:53:05.558326Z"
    }
   },
   "cell_type": "code",
   "source": [
    "def filter(x):\n",
    "    # filter based on source code\n",
    "    if \"com.google\" in x[\"text\"].data()[\"value\"]:\n",
    "        return False\n",
    "\n",
    "    # filter based on path e.g. extension\n",
    "    metadata = x[\"metadata\"].data()[\"value\"]\n",
    "    return \"scala\" in metadata[\"source\"] or \"py\" in metadata[\"source\"]\n",
    "\n",
    "\n",
    "### turn on below for custom filtering\n",
    "# retriever.search_kwargs['filter'] = filter"
   ],
   "id": "7fb2ea53a67ce4a3",
   "outputs": [],
   "execution_count": 35
  },
  {
   "metadata": {
    "ExecuteTime": {
     "end_time": "2025-01-05T00:53:07.194628Z",
     "start_time": "2025-01-05T00:53:07.186546Z"
    }
   },
   "cell_type": "code",
   "source": [
    "from langchain.chains import ConversationalRetrievalChain\n",
    "# from langchain_openai import ChatOpenAI\n",
    "from langchain_anthropic import ChatAnthropic\n",
    "\n",
    "# model = ChatOpenAI(model=\"gpt-3.5-turbo-0613\")  # switch to 'gpt-4'\n",
    "model = ChatAnthropic(\n",
    "  model=\"claude-3-haiku-20240307\",\n",
    "    temperature=0,\n",
    "    max_tokens=1024,\n",
    "    timeout=None,\n",
    "    max_retries=2,\n",
    ")\n",
    "qa = ConversationalRetrievalChain.from_llm(model, retriever=retriever)"
   ],
   "id": "e9efe980383e48dc",
   "outputs": [],
   "execution_count": 36
  },
  {
   "metadata": {
    "ExecuteTime": {
     "end_time": "2025-01-05T00:57:40.392993Z",
     "start_time": "2025-01-05T00:57:16.190324Z"
    }
   },
   "cell_type": "code",
   "source": [
    "questions = [\n",
    "    \"What does the class BaseParser do?\",\n",
    "    # \"What is the chain of density prompting technique and how is it used here?\",\n",
    "    # \"Which LLM are used in the example?\",\n",
    "    # \"is it Likes + Bookmarks, or not clear from the code?\",\n",
    "    # \"What are the major negative modifiers that lower your linear ranking parameters?\",\n",
    "    # \"How do you get assigned to SimClusters?\",\n",
    "    # \"What is needed to migrate from one SimClusters to another SimClusters?\",\n",
    "    # \"How much do I get boosted within my cluster?\",\n",
    "    # \"How does Heavy ranker work. what are it’s main inputs?\",\n",
    "    # \"How can one influence Heavy ranker?\",\n",
    "    # \"why threads and long tweets do so well on the platform?\",\n",
    "    # \"Are thread and long tweet creators building a following that reacts to only threads?\",\n",
    "    # \"Do you need to follow different strategies to get most followers vs to get most likes and bookmarks per tweet?\",\n",
    "    # \"Content meta data and how it impacts virality (e.g. ALT in images).\",\n",
    "    # \"What are some unexpected fingerprints for spam factors?\",\n",
    "    # \"Is there any difference between company verified checkmarks and blue verified individual checkmarks?\",\n",
    "]\n",
    "chat_history = []\n",
    "\n",
    "for question in questions:\n",
    "    result = qa({\"question\": question, \"chat_history\": chat_history})\n",
    "    chat_history.append((question, result[\"answer\"]))\n",
    "    print(f\"-> **Question**: {question} \\n\")\n",
    "    print(f\"**Answer**: {result['answer']} \\n\")"
   ],
   "id": "ca3c5b9731c32e80",
   "outputs": [
    {
     "name": "stdout",
     "output_type": "stream",
     "text": [
      "-> **Question**: What does the class BaseParser do? \n",
      "\n",
      "**Answer**: The `BaseParser` class in the `py-llm-core` library serves as a base class for different parser implementations that use various Large Language Models (LLMs) to parse and process information from unstructured content.\n",
      "\n",
      "The key things the `BaseParser` class does:\n",
      "\n",
      "1. **Holds configuration**: It defines the target class, the LLM model to use, the specific model class, and optional loader and loader kwargs.\n",
      "\n",
      "2. **Generates JSON schema**: In the `__post_init__` method, it generates a JSON schema for the target class using the `to_json_schema` function from the `schema` module.\n",
      "\n",
      "3. **Provides a common interface**: The `BaseParser` class serves as a common interface for different parser implementations, such as `OpenAIParser`, `AzureOpenAIParser`, `MistralAIParser`, etc. These derived classes inherit from `BaseParser` and provide specific implementations for their respective LLM models.\n",
      "\n",
      "4. **Handles LLM-specific configuration**: The derived parser classes can override or extend the configuration options defined in the `BaseParser` class, such as the `model`, `model_cls`, `loader`, and `loader_kwargs`.\n",
      "\n",
      "The purpose of the `BaseParser` class is to provide a consistent and extensible way to work with different LLM-based parsing implementations, allowing users to easily switch between models and providers without having to rewrite the core parsing logic. \n",
      "\n"
     ]
    }
   ],
   "execution_count": 39
  }
 ],
 "metadata": {
  "kernelspec": {
   "display_name": "Python 3",
   "language": "python",
   "name": "python3"
  },
  "language_info": {
   "codemirror_mode": {
    "name": "ipython",
    "version": 2
   },
   "file_extension": ".py",
   "mimetype": "text/x-python",
   "name": "python",
   "nbconvert_exporter": "python",
   "pygments_lexer": "ipython2",
   "version": "2.7.6"
  }
 },
 "nbformat": 4,
 "nbformat_minor": 5
}
