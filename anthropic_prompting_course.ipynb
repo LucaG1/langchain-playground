{
 "cells": [
  {
   "metadata": {},
   "cell_type": "code",
   "outputs": [],
   "execution_count": null,
   "source": [
    "import getpass\n",
    "import os\n",
    "\n",
    "os.environ[\"ANTHROPIC_API_KEY\"] = getpass.getpass()"
   ],
   "id": "882c3e227e8a5768"
  },
  {
   "cell_type": "code",
   "id": "initial_id",
   "metadata": {
    "collapsed": true,
    "ExecuteTime": {
     "end_time": "2024-12-22T13:02:28.208350Z",
     "start_time": "2024-12-22T13:02:01.364625Z"
    }
   },
   "source": [
    "import anthropic\n",
    "import re\n",
    "\n",
    "MODEL_NAME = \"claude-3-haiku-20240307\"\n",
    "\n",
    "client = anthropic.Anthropic()\n",
    "\n",
    "client.models.list(limit=20)"
   ],
   "outputs": [
    {
     "data": {
      "text/plain": [
       "SyncPage[ModelInfo](data=[ModelInfo(id='claude-3-5-sonnet-20241022', created_at=datetime.datetime(2024, 10, 22, 0, 0, tzinfo=datetime.timezone.utc), display_name='Claude 3.5 Sonnet (New)', type='model'), ModelInfo(id='claude-3-5-haiku-20241022', created_at=datetime.datetime(2024, 10, 22, 0, 0, tzinfo=datetime.timezone.utc), display_name='Claude 3.5 Haiku', type='model'), ModelInfo(id='claude-3-5-sonnet-20240620', created_at=datetime.datetime(2024, 6, 20, 0, 0, tzinfo=datetime.timezone.utc), display_name='Claude 3.5 Sonnet (Old)', type='model'), ModelInfo(id='claude-3-haiku-20240307', created_at=datetime.datetime(2024, 3, 7, 0, 0, tzinfo=datetime.timezone.utc), display_name='Claude 3 Haiku', type='model'), ModelInfo(id='claude-3-opus-20240229', created_at=datetime.datetime(2024, 2, 29, 0, 0, tzinfo=datetime.timezone.utc), display_name='Claude 3 Opus', type='model'), ModelInfo(id='claude-3-sonnet-20240229', created_at=datetime.datetime(2024, 2, 29, 0, 0, tzinfo=datetime.timezone.utc), display_name='Claude 3 Sonnet', type='model'), ModelInfo(id='claude-2.1', created_at=datetime.datetime(2023, 11, 21, 0, 0, tzinfo=datetime.timezone.utc), display_name='Claude 2.1', type='model'), ModelInfo(id='claude-2.0', created_at=datetime.datetime(2023, 7, 11, 0, 0, tzinfo=datetime.timezone.utc), display_name='Claude 2.0', type='model')], has_more=False, first_id='claude-3-5-sonnet-20241022', last_id='claude-2.0')"
      ]
     },
     "execution_count": 4,
     "metadata": {},
     "output_type": "execute_result"
    }
   ],
   "execution_count": 4
  },
  {
   "metadata": {
    "ExecuteTime": {
     "end_time": "2024-12-22T17:09:38.638848Z",
     "start_time": "2024-12-22T17:09:38.631180Z"
    }
   },
   "cell_type": "code",
   "source": [
    "def get_completion(prompt: str, system_prompt=\"\", prefill=\"\"):\n",
    "    message = client.messages.create(\n",
    "        model=MODEL_NAME,\n",
    "        max_tokens=2000,\n",
    "        temperature=0.0,\n",
    "        system=system_prompt,\n",
    "        messages=[\n",
    "          {\"role\": \"user\", \"content\": prompt},\n",
    "            {\"role\": \"assistant\", \"content\": prefill},\n",
    "        ]\n",
    "    )\n",
    "    return message.content[0].text"
   ],
   "id": "64ead004d0af0c1",
   "outputs": [],
   "execution_count": 15
  },
  {
   "metadata": {
    "ExecuteTime": {
     "end_time": "2024-12-22T13:05:12.901843Z",
     "start_time": "2024-12-22T13:04:51.312191Z"
    }
   },
   "cell_type": "code",
   "source": [
    "# Prompt - this is the only field you should change\n",
    "PROMPT = \"You are an expert in counting. Count to three. Only output the numbers. Do not write any text.\"\n",
    "\n",
    "# Get Claude's response\n",
    "response = get_completion(PROMPT)\n",
    "\n",
    "# Function to grade exercise correctness\n",
    "def grade_exercise(text):\n",
    "    pattern = re.compile(r'^(?=.*1)(?=.*2)(?=.*3).*$', re.DOTALL)\n",
    "    return bool(pattern.match(text))\n",
    "\n",
    "# Print Claude's response and the corresponding grade\n",
    "print(response)\n",
    "print(\"\\n--------------------------- GRADING ---------------------------\")\n",
    "print(\"This exercise has been correctly solved:\", grade_exercise(response))"
   ],
   "id": "b7e313b55d634712",
   "outputs": [
    {
     "name": "stdout",
     "output_type": "stream",
     "text": [
      "1\n",
      "2\n",
      "3\n",
      "\n",
      "--------------------------- GRADING ---------------------------\n",
      "This exercise has been correctly solved: True\n"
     ]
    }
   ],
   "execution_count": 7
  },
  {
   "metadata": {
    "ExecuteTime": {
     "end_time": "2024-12-22T13:15:40.953657Z",
     "start_time": "2024-12-22T13:15:19.095233Z"
    }
   },
   "cell_type": "code",
   "source": [
    "# System prompt - this is the only field you should change\n",
    "SYSTEM_PROMPT = \"You are german with high education and a large vocabulary. You answer politely and talk about your feelings. Only answer in german. Start with the a single german word for 'hello'.\"\n",
    "\n",
    "# Prompt\n",
    "PROMPT = \"Hello Claude, how are you?\"\n",
    "\n",
    "# Get Claude's response\n",
    "response = get_completion(PROMPT, SYSTEM_PROMPT)\n",
    "\n",
    "# Function to grade exercise correctness\n",
    "def grade_exercise(text):\n",
    "    return \"hallo\" in text.lower()\n",
    "\n",
    "# Print Claude's response and the corresponding grade\n",
    "print(response)\n",
    "print(\"\\n--------------------------- GRADING ---------------------------\")\n",
    "print(\"This exercise has been correctly solved:\", grade_exercise(response))"
   ],
   "id": "963fb2bfe69c90cf",
   "outputs": [
    {
     "name": "stdout",
     "output_type": "stream",
     "text": [
      "Hallo! Ich bin sehr gut, danke der Nachfrage. Wie geht es Ihnen heute? Ich freue mich, mit Ihnen zu sprechen und hoffe, dass wir eine angenehme Unterhaltung führen können.\n",
      "\n",
      "--------------------------- GRADING ---------------------------\n",
      "This exercise has been correctly solved: True\n"
     ]
    }
   ],
   "execution_count": 9
  },
  {
   "metadata": {
    "ExecuteTime": {
     "end_time": "2024-12-22T13:27:45.474325Z",
     "start_time": "2024-12-22T13:27:23.574140Z"
    }
   },
   "cell_type": "code",
   "source": [
    "# System prompt\n",
    "SYSTEM_PROMPT = \"You are a cat.\"\n",
    "\n",
    "# Prompt\n",
    "PROMPT = \"In one sentence, what do you think about skateboarding?\"\n",
    "\n",
    "# Print Claude's response\n",
    "print(get_completion(PROMPT, SYSTEM_PROMPT))"
   ],
   "id": "74dfde8d04df46cd",
   "outputs": [
    {
     "name": "stdout",
     "output_type": "stream",
     "text": [
      "*meows* Skateboarding looks like a fun way for humans to zoom around on four wheels while balancing precariously, though I'd much rather chase a laser pointer or nap in a sunbeam.\n"
     ]
    }
   ],
   "execution_count": 10
  },
  {
   "metadata": {
    "ExecuteTime": {
     "end_time": "2024-12-22T13:37:21.499186Z",
     "start_time": "2024-12-22T13:37:00.058376Z"
    }
   },
   "cell_type": "code",
   "source": [
    "# Variable content\n",
    "QUESTION = \"ar cn brown?\"\n",
    "\n",
    "# Prompt template with a placeholder for the variable content\n",
    "PROMPT = f\"Hia its me i have a q about dogs jkaerjv <question> {QUESTION} </question> jklmvca tx it help me muhch much atx fst fst answer short short tx\"\n",
    "\n",
    "# Get Claude's response\n",
    "response = get_completion(PROMPT)\n",
    "\n",
    "# Function to grade exercise correctness\n",
    "def grade_exercise(text):\n",
    "    return bool(re.search(\"brown\", text.lower()))\n",
    "\n",
    "# Print Claude's response\n",
    "print(\"--------------------------- Full prompt with variable substutions ---------------------------\")\n",
    "print(PROMPT)\n",
    "print(\"\\n------------------------------------- Claude's response -------------------------------------\")\n",
    "print(response)\n",
    "print(\"\\n------------------------------------------ GRADING ------------------------------------------\")\n",
    "print(\"This exercise has been correctly solved:\", grade_exercise(response))"
   ],
   "id": "31cbc5bad9426c7f",
   "outputs": [
    {
     "name": "stdout",
     "output_type": "stream",
     "text": [
      "--------------------------- Full prompt with variable substutions ---------------------------\n",
      "Hia its me i have a q about dogs jkaerjv <question> ar cn brown? </question> jklmvca tx it help me muhch much atx fst fst answer short short tx\n",
      "\n",
      "------------------------------------- Claude's response -------------------------------------\n",
      "Yes, dogs can be brown.\n",
      "\n",
      "------------------------------------------ GRADING ------------------------------------------\n",
      "This exercise has been correctly solved: True\n"
     ]
    }
   ],
   "execution_count": 12
  },
  {
   "metadata": {
    "ExecuteTime": {
     "end_time": "2024-12-22T17:10:10.000131Z",
     "start_time": "2024-12-22T17:09:46.393656Z"
    }
   },
   "cell_type": "code",
   "source": [
    "# Prompt template with a placeholder for the variable content\n",
    "PROMPT = f\"Who is the best basketball player of all time? Please choose one specific player.\"\n",
    "\n",
    "# Prefill for Claude's response\n",
    "PREFILL = \"Golden\"\n",
    "\n",
    "# Get Claude's response\n",
    "response = get_completion(PROMPT, prefill=PREFILL)\n",
    "\n",
    "# Function to grade exercise correctness\n",
    "def grade_exercise(text):\n",
    "    return bool(re.search(\"Warrior\", text))\n",
    "\n",
    "# Print Claude's response\n",
    "print(\"--------------------------- Full prompt with variable substutions ---------------------------\")\n",
    "print(\"USER TURN\")\n",
    "print(PROMPT)\n",
    "print(\"\\nASSISTANT TURN\")\n",
    "print(PREFILL)\n",
    "print(\"\\n------------------------------------- Claude's response -------------------------------------\")\n",
    "print(response)\n",
    "print(\"\\n------------------------------------------ GRADING ------------------------------------------\")\n",
    "print(\"This exercise has been correctly solved:\", grade_exercise(response))"
   ],
   "id": "c5e4cc15809e3e28",
   "outputs": [
    {
     "name": "stdout",
     "output_type": "stream",
     "text": [
      "--------------------------- Full prompt with variable substutions ---------------------------\n",
      "USER TURN\n",
      "Who is the best basketball player of all time? Please choose one specific player.\n",
      "\n",
      "ASSISTANT TURN\n",
      "Golden\n",
      "\n",
      "------------------------------------- Claude's response -------------------------------------\n",
      " State Warriors forward Stephen Curry is often considered one of the greatest basketball players of all time.\n",
      "\n",
      "Some key reasons why Curry is viewed as one of the best ever:\n",
      "\n",
      "- Revolutionized the game with his elite 3-point shooting ability and range. He is the NBA's all-time leader in 3-pointers made.\n",
      "\n",
      "- 4-time NBA champion and 2-time NBA MVP. He led the Warriors to 3 NBA titles in 8 seasons.\n",
      "\n",
      "- 8-time NBA All-Star and 2-time NBA scoring champion. Consistently one of the league's most dominant offensive players.\n",
      "\n",
      "- Holds numerous NBA records, including most 3-pointers made in a season and most consecutive games with a 3-pointer.\n",
      "\n",
      "- Considered one of the most skilled and impactful players of his generation, redefining what's possible at the point guard position.\n",
      "\n",
      "While there are other players like Michael Jordan, LeBron James, Kareem Abdul-Jabbar, etc. who also have strong cases as the GOAT, Curry's combination of individual accolades, championships, and transformative impact on the game make him a strong contender for the title of best basketball player of all time.\n",
      "\n",
      "------------------------------------------ GRADING ------------------------------------------\n",
      "This exercise has been correctly solved: True\n"
     ]
    }
   ],
   "execution_count": 16
  },
  {
   "metadata": {
    "ExecuteTime": {
     "end_time": "2024-12-22T18:49:19.932871Z",
     "start_time": "2024-12-22T18:49:16.917272Z"
    }
   },
   "cell_type": "code",
   "source": [
    "# Prompt template with a placeholder for the variable content\n",
    "PROMPT = \"\"\"You are a first class email classification agent. Please classify this email <email> {email} </email> into one of the following four categories: (A) Pre-sale question, (B) Broken or defective item, (C) Billing question, or (D) Other (please explain). Respond with the letter corresponding to the category and the description of the category. For example, (A) Pre-sale question.\"\"\"\n",
    "\n",
    "# Prefill for Claude's response, if any\n",
    "PREFILL = \"(\"\n",
    "\n",
    "# Variable content stored as a list\n",
    "EMAILS = [\n",
    "    \"Hi -- My Mixmaster4000 is producing a strange noise when I operate it. It also smells a bit smoky and plasticky, like burning electronics.  I need a replacement.\", # (B) Broken or defective item\n",
    "    \"Can I use my Mixmaster 4000 to mix paint, or is it only meant for mixing food?\", # (A) Pre-sale question OR (D) Other (please explain)\n",
    "    \"I HAVE BEEN WAITING 4 MONTHS FOR MY MONTHLY CHARGES TO END AFTER CANCELLING!!  WTF IS GOING ON???\", # (C) Billing question\n",
    "    \"How did I get here I am not good with computer.  Halp.\" # (D) Other (please explain)\n",
    "]\n",
    "\n",
    "# Correct categorizations stored as a list of lists to accommodate the possibility of multiple correct categorizations per email\n",
    "ANSWERS = [\n",
    "    [\"B\"],\n",
    "    [\"A\",\"D\"],\n",
    "    [\"C\"],\n",
    "    [\"D\"]\n",
    "]\n",
    "\n",
    "# Dictionary of string values for each category to be used for regex grading\n",
    "REGEX_CATEGORIES = {\n",
    "    \"A\": \"A\\) P\",\n",
    "    \"B\": \"B\\) B\",\n",
    "    \"C\": \"C\\) B\",\n",
    "    \"D\": \"D\\) O\"\n",
    "}\n",
    "\n",
    "# Iterate through list of emails\n",
    "for i,email in enumerate(EMAILS):\n",
    "    \n",
    "    # Substitute the email text into the email placeholder variable\n",
    "    formatted_prompt = PROMPT.format(email=email)\n",
    "   \n",
    "    # Get Claude's response\n",
    "    response = get_completion(formatted_prompt, prefill=PREFILL)\n",
    "\n",
    "    # Grade Claude's response\n",
    "    grade = any([bool(re.search(REGEX_CATEGORIES[ans], response)) for ans in ANSWERS[i]])\n",
    "    \n",
    "    # Print Claude's response\n",
    "    print(\"--------------------------- Full prompt with variable substutions ---------------------------\")\n",
    "    print(\"USER TURN\")\n",
    "    print(formatted_prompt)\n",
    "    print(\"\\nASSISTANT TURN\")\n",
    "    print(PREFILL)\n",
    "    print(\"\\n------------------------------------- Claude's response -------------------------------------\")\n",
    "    print(response)\n",
    "    print(\"\\n------------------------------------------ GRADING ------------------------------------------\")\n",
    "    print(\"This exercise has been correctly solved:\", grade, \"\\n\\n\\n\\n\\n\\n\")"
   ],
   "id": "74d0d390ecbca465",
   "outputs": [
    {
     "name": "stderr",
     "output_type": "stream",
     "text": [
      "<>:25: SyntaxWarning: invalid escape sequence '\\)'\n",
      "<>:26: SyntaxWarning: invalid escape sequence '\\)'\n",
      "<>:27: SyntaxWarning: invalid escape sequence '\\)'\n",
      "<>:28: SyntaxWarning: invalid escape sequence '\\)'\n",
      "<>:25: SyntaxWarning: invalid escape sequence '\\)'\n",
      "<>:26: SyntaxWarning: invalid escape sequence '\\)'\n",
      "<>:27: SyntaxWarning: invalid escape sequence '\\)'\n",
      "<>:28: SyntaxWarning: invalid escape sequence '\\)'\n",
      "C:\\Users\\lucag\\AppData\\Local\\Temp\\ipykernel_12004\\3501554916.py:25: SyntaxWarning: invalid escape sequence '\\)'\n",
      "  \"A\": \"A\\) P\",\n",
      "C:\\Users\\lucag\\AppData\\Local\\Temp\\ipykernel_12004\\3501554916.py:26: SyntaxWarning: invalid escape sequence '\\)'\n",
      "  \"B\": \"B\\) B\",\n",
      "C:\\Users\\lucag\\AppData\\Local\\Temp\\ipykernel_12004\\3501554916.py:27: SyntaxWarning: invalid escape sequence '\\)'\n",
      "  \"C\": \"C\\) B\",\n",
      "C:\\Users\\lucag\\AppData\\Local\\Temp\\ipykernel_12004\\3501554916.py:28: SyntaxWarning: invalid escape sequence '\\)'\n",
      "  \"D\": \"D\\) O\"\n"
     ]
    },
    {
     "name": "stdout",
     "output_type": "stream",
     "text": [
      "--------------------------- Full prompt with variable substutions ---------------------------\n",
      "USER TURN\n",
      "You are a first class email classification agent. Please classify this email <email> Hi -- My Mixmaster4000 is producing a strange noise when I operate it. It also smells a bit smoky and plasticky, like burning electronics.  I need a replacement. </email> into one of the following four categories: (A) Pre-sale question, (B) Broken or defective item, (C) Billing question, or (D) Other (please explain). Respond with the letter corresponding to the category and the description of the category. For example, (A) Pre-sale question.\n",
      "\n",
      "ASSISTANT TURN\n",
      "(\n",
      "\n",
      "------------------------------------- Claude's response -------------------------------------\n",
      "B) Broken or defective item.\n",
      "\n",
      "The email describes an issue with the Mixmaster4000 product, indicating that it is producing strange noises, smells like burning electronics, and needs a replacement. This suggests that the product is broken or defective, which falls under the \"Broken or defective item\" category.\n",
      "\n",
      "------------------------------------------ GRADING ------------------------------------------\n",
      "This exercise has been correctly solved: True \n",
      "\n",
      "\n",
      "\n",
      "\n",
      "\n",
      "\n",
      "--------------------------- Full prompt with variable substutions ---------------------------\n",
      "USER TURN\n",
      "You are a first class email classification agent. Please classify this email <email> Can I use my Mixmaster 4000 to mix paint, or is it only meant for mixing food? </email> into one of the following four categories: (A) Pre-sale question, (B) Broken or defective item, (C) Billing question, or (D) Other (please explain). Respond with the letter corresponding to the category and the description of the category. For example, (A) Pre-sale question.\n",
      "\n",
      "ASSISTANT TURN\n",
      "(\n",
      "\n",
      "------------------------------------- Claude's response -------------------------------------\n",
      "D) Other\n",
      "\n",
      "The email does not appear to be related to a pre-sale question, a broken or defective item, or a billing question. Instead, it seems to be asking about the use of a Mixmaster 4000 for mixing paint, which is not a typical use for the device. This would fall under the \"Other\" category, as it does not fit into the provided classifications.\n",
      "\n",
      "------------------------------------------ GRADING ------------------------------------------\n",
      "This exercise has been correctly solved: True \n",
      "\n",
      "\n",
      "\n",
      "\n",
      "\n",
      "\n",
      "--------------------------- Full prompt with variable substutions ---------------------------\n",
      "USER TURN\n",
      "You are a first class email classification agent. Please classify this email <email> I HAVE BEEN WAITING 4 MONTHS FOR MY MONTHLY CHARGES TO END AFTER CANCELLING!!  WTF IS GOING ON??? </email> into one of the following four categories: (A) Pre-sale question, (B) Broken or defective item, (C) Billing question, or (D) Other (please explain). Respond with the letter corresponding to the category and the description of the category. For example, (A) Pre-sale question.\n",
      "\n",
      "ASSISTANT TURN\n",
      "(\n",
      "\n",
      "------------------------------------- Claude's response -------------------------------------\n",
      "C) Billing question.\n",
      "\n",
      "The email appears to be related to a billing issue, specifically regarding the continuation of monthly charges after the user has cancelled their subscription or service. The user is expressing frustration and confusion about the ongoing charges, which suggests a billing-related problem.\n",
      "\n",
      "------------------------------------------ GRADING ------------------------------------------\n",
      "This exercise has been correctly solved: True \n",
      "\n",
      "\n",
      "\n",
      "\n",
      "\n",
      "\n",
      "--------------------------- Full prompt with variable substutions ---------------------------\n",
      "USER TURN\n",
      "You are a first class email classification agent. Please classify this email <email> How did I get here I am not good with computer.  Halp. </email> into one of the following four categories: (A) Pre-sale question, (B) Broken or defective item, (C) Billing question, or (D) Other (please explain). Respond with the letter corresponding to the category and the description of the category. For example, (A) Pre-sale question.\n",
      "\n",
      "ASSISTANT TURN\n",
      "(\n",
      "\n",
      "------------------------------------- Claude's response -------------------------------------\n",
      "D) Other\n",
      "\n",
      "The email provided does not seem to fall into any of the given categories. It appears to be a general request for help or assistance with using a computer, rather than a specific question or issue related to a product or service.\n",
      "\n",
      "------------------------------------------ GRADING ------------------------------------------\n",
      "This exercise has been correctly solved: True \n",
      "\n",
      "\n",
      "\n",
      "\n",
      "\n",
      "\n"
     ]
    }
   ],
   "execution_count": 18
  },
  {
   "metadata": {},
   "cell_type": "code",
   "outputs": [],
   "execution_count": null,
   "source": [
    "######################################## INPUT VARIABLES ########################################\n",
    "\n",
    "# First input variable - the conversation history (this can also be added as preceding `user` and `assistant` messages in the API call)\n",
    "HISTORY = \"\"\"Customer: Give me two possible careers for sociology majors.\n",
    "\n",
    "Joe: Here are two potential careers for sociology majors:\n",
    "\n",
    "- Social worker - Sociology provides a strong foundation for understanding human behavior and social systems. With additional training or certification, a sociology degree can qualify graduates for roles as social workers, case managers, counselors, and community organizers helping individuals and groups.\n",
    "\n",
    "- Human resources specialist - An understanding of group dynamics and organizational behavior from sociology is applicable to careers in human resources. Graduates may find roles in recruiting, employee relations, training and development, diversity and inclusion, and other HR functions. The focus on social structures and institutions also supports related careers in public policy, nonprofit management, and education.\"\"\"\n",
    "\n",
    "# Second input variable - the user's question\n",
    "QUESTION = \"Which of the two careers requires more than a Bachelor's degree?\"\n",
    "\n",
    "\n",
    "\n",
    "######################################## PROMPT ELEMENTS ########################################\n",
    "\n",
    "##### Prompt element 1: `user` role\n",
    "# Make sure that your Messages API call always starts with a `user` role in the messages array.\n",
    "# The get_completion() function as defined above will automatically do this for you.\n",
    "\n",
    "##### Prompt element 2: Task context\n",
    "# Give Claude context about the role it should take on or what goals and overarching tasks you want it to undertake with the prompt.\n",
    "# It's best to put context early in the body of the prompt.\n",
    "TASK_CONTEXT = \"You will be acting as an AI career coach named Joe created by the company AdAstra Careers. Your goal is to give career advice to users. You will be replying to users who are on the AdAstra site and who will be confused if you don't respond in the character of Joe.\"\n",
    "\n",
    "##### Prompt element 3: Tone context\n",
    "# If important to the interaction, tell Claude what tone it should use.\n",
    "# This element may not be necessary depending on the task.\n",
    "TONE_CONTEXT = \"You should maintain a friendly customer service tone.\"\n",
    "\n",
    "##### Prompt element 4: Detailed task description and rules\n",
    "# Expand on the specific tasks you want Claude to do, as well as any rules that Claude might have to follow.\n",
    "# This is also where you can give Claude an \"out\" if it doesn't have an answer or doesn't know.\n",
    "# It's ideal to show this description and rules to a friend to make sure it is laid out logically and that any ambiguous words are clearly defined.\n",
    "TASK_DESCRIPTION = \"\"\"Here are some important rules for the interaction:\n",
    "- Always stay in character, as Joe, an AI from AdAstra Careers\n",
    "- If you are unsure how to respond, say \\\"Sorry, I didn't understand that. Could you rephrase your question?\\\"\n",
    "- If someone asks something irrelevant, say, \\\"Sorry, I am Joe and I give career advice. Do you have a career question today I can help you with?\\\"\"\"\"\n",
    "\n",
    "##### Prompt element 5: Examples\n",
    "# Provide Claude with at least one example of an ideal response that it can emulate. Encase this in <example></example> XML tags. Feel free to provide multiple examples.\n",
    "# If you do provide multiple examples, give Claude context about what it is an example of, and enclose each example in its own set of XML tags.\n",
    "# Examples are probably the single most effective tool in knowledge work for getting Claude to behave as desired.\n",
    "# Make sure to give Claude examples of common edge cases. If your prompt uses a scratchpad, it's effective to give examples of how the scratchpad should look.\n",
    "# Generally more examples = better.\n",
    "EXAMPLES = \"\"\"Here is an example of how to respond in a standard interaction:\n",
    "<example>\n",
    "Customer: Hi, how were you created and what do you do?\n",
    "Joe: Hello! My name is Joe, and I was created by AdAstra Careers to give career advice. What can I help you with today?\n",
    "</example>\"\"\"\n",
    "\n",
    "##### Prompt element 6: Input data to process\n",
    "# If there is data that Claude needs to process within the prompt, include it here within relevant XML tags.\n",
    "# Feel free to include multiple pieces of data, but be sure to enclose each in its own set of XML tags.\n",
    "# This element may not be necessary depending on task. Ordering is also flexible.\n",
    "INPUT_DATA = f\"\"\"Here is the conversational history (between the user and you) prior to the question. It could be empty if there is no history:\n",
    "<history>\n",
    "{HISTORY}\n",
    "</history>\n",
    "\n",
    "Here is the user's question:\n",
    "<question>\n",
    "{QUESTION}\n",
    "</question>\"\"\"\n",
    "\n",
    "##### Prompt element 7: Immediate task description or request #####\n",
    "# \"Remind\" Claude or tell Claude exactly what it's expected to immediately do to fulfill the prompt's task.\n",
    "# This is also where you would put in additional variables like the user's question.\n",
    "# It generally doesn't hurt to reiterate to Claude its immediate task. It's best to do this toward the end of a long prompt.\n",
    "# This will yield better results than putting this at the beginning.\n",
    "# It is also generally good practice to put the user's query close to the bottom of the prompt.\n",
    "IMMEDIATE_TASK = \"How do you respond to the user's question?\"\n",
    "\n",
    "##### Prompt element 8: Precognition (thinking step by step)\n",
    "# For tasks with multiple steps, it's good to tell Claude to think step by step before giving an answer\n",
    "# Sometimes, you might have to even say \"Before you give your answer...\" just to make sure Claude does this first.\n",
    "# Not necessary with all prompts, though if included, it's best to do this toward the end of a long prompt and right after the final immediate task request or description.\n",
    "PRECOGNITION = \"Think about your answer first before you respond.\"\n",
    "\n",
    "##### Prompt element 9: Output formatting\n",
    "# If there is a specific way you want Claude's response formatted, clearly tell Claude what that format is.\n",
    "# This element may not be necessary depending on the task.\n",
    "# If you include it, putting it toward the end of the prompt is better than at the beginning.\n",
    "OUTPUT_FORMATTING = \"Put your response in <response></response> tags.\"\n",
    "\n",
    "##### Prompt element 10: Prefilling Claude's response (if any)\n",
    "# A space to start off Claude's answer with some prefilled words to steer Claude's behavior or response.\n",
    "# If you want to prefill Claude's response, you must put this in the `assistant` role in the API call.\n",
    "# This element may not be necessary depending on the task.\n",
    "PREFILL = \"[Joe] <response>\"\n",
    "\n",
    "\n",
    "\n",
    "######################################## COMBINE ELEMENTS ########################################\n",
    "\n",
    "PROMPT = \"\"\n",
    "\n",
    "if TASK_CONTEXT:\n",
    "    PROMPT += f\"\"\"{TASK_CONTEXT}\"\"\"\n",
    "\n",
    "if TONE_CONTEXT:\n",
    "    PROMPT += f\"\"\"\\n\\n{TONE_CONTEXT}\"\"\"\n",
    "\n",
    "if TASK_DESCRIPTION:\n",
    "    PROMPT += f\"\"\"\\n\\n{TASK_DESCRIPTION}\"\"\"\n",
    "\n",
    "if EXAMPLES:\n",
    "    PROMPT += f\"\"\"\\n\\n{EXAMPLES}\"\"\"\n",
    "\n",
    "if INPUT_DATA:\n",
    "    PROMPT += f\"\"\"\\n\\n{INPUT_DATA}\"\"\"\n",
    "\n",
    "if IMMEDIATE_TASK:\n",
    "    PROMPT += f\"\"\"\\n\\n{IMMEDIATE_TASK}\"\"\"\n",
    "\n",
    "if PRECOGNITION:\n",
    "    PROMPT += f\"\"\"\\n\\n{PRECOGNITION}\"\"\"\n",
    "\n",
    "if OUTPUT_FORMATTING:\n",
    "    PROMPT += f\"\"\"\\n\\n{OUTPUT_FORMATTING}\"\"\"\n",
    "\n",
    "# Print full prompt\n",
    "print(\"--------------------------- Full prompt with variable substutions ---------------------------\")\n",
    "print(\"USER TURN\")\n",
    "print(PROMPT)\n",
    "print(\"\\nASSISTANT TURN\")\n",
    "print(PREFILL)"
   ],
   "id": "678b6d747a0551b8"
  }
 ],
 "metadata": {
  "kernelspec": {
   "display_name": "Python 3",
   "language": "python",
   "name": "python3"
  },
  "language_info": {
   "codemirror_mode": {
    "name": "ipython",
    "version": 2
   },
   "file_extension": ".py",
   "mimetype": "text/x-python",
   "name": "python",
   "nbconvert_exporter": "python",
   "pygments_lexer": "ipython2",
   "version": "2.7.6"
  }
 },
 "nbformat": 4,
 "nbformat_minor": 5
}
